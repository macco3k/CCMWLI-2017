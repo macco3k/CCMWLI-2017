{
 "cells": [
  {
   "cell_type": "code",
   "execution_count": 1,
   "metadata": {},
   "outputs": [],
   "source": [
    "from markbot import Bot"
   ]
  },
  {
   "cell_type": "code",
   "execution_count": 2,
   "metadata": {},
   "outputs": [],
   "source": [
    "mark = Bot(documents=['data/posts.txt'], burn_in=10)\n",
    "mark._load_data()"
   ]
  },
  {
   "cell_type": "code",
   "execution_count": 3,
   "metadata": {},
   "outputs": [
    {
     "data": {
      "text/plain": [
       "\"I believe that a position to choose between betraying my country Why do they have made an important part of our minds work, we immediately gained agency and hence all there is something like: If the tea is either sentient or not through sensing but also will. In fact, the example I've Worked with the paradoxes of motion generally refer to objects. For example, if a computer simulating a bunch of videos and engaged in more detail next time, please. Is it possible for us all.1 1nagel T. 'death', Nous,\""
      ]
     },
     "execution_count": 3,
     "metadata": {},
     "output_type": "execute_result"
    }
   ],
   "source": [
    "mark._generate_text(100)"
   ]
  },
  {
   "cell_type": "code",
   "execution_count": 4,
   "metadata": {
    "scrolled": true
   },
   "outputs": [
    {
     "ename": "ModuleNotFoundError",
     "evalue": "No module named 'Stemmer'",
     "output_type": "error",
     "traceback": [
      "\u001b[0;31m---------------------------------------------------------------------------\u001b[0m",
      "\u001b[0;31mModuleNotFoundError\u001b[0m                       Traceback (most recent call last)",
      "\u001b[0;32m<ipython-input-4-12b4c0630972>\u001b[0m in \u001b[0;36m<module>\u001b[0;34m()\u001b[0m\n\u001b[0;32m----> 1\u001b[0;31m \u001b[0;32mfrom\u001b[0m \u001b[0mcobe\u001b[0m\u001b[0;34m.\u001b[0m\u001b[0mcobe\u001b[0m\u001b[0;34m.\u001b[0m\u001b[0mbrain\u001b[0m \u001b[0;32mimport\u001b[0m \u001b[0mBrain\u001b[0m\u001b[0;34m\u001b[0m\u001b[0m\n\u001b[0m\u001b[1;32m      2\u001b[0m \u001b[0;34m\u001b[0m\u001b[0m\n\u001b[1;32m      3\u001b[0m \u001b[0mb\u001b[0m \u001b[0;34m=\u001b[0m \u001b[0mBrain\u001b[0m\u001b[0;34m(\u001b[0m\u001b[0;34m\"phil.brain\"\u001b[0m\u001b[0;34m)\u001b[0m\u001b[0;34m\u001b[0m\u001b[0m\n\u001b[1;32m      4\u001b[0m \u001b[0mb\u001b[0m\u001b[0;34m.\u001b[0m\u001b[0mlearnfile\u001b[0m\u001b[0;34m(\u001b[0m\u001b[0;34m[\u001b[0m\u001b[0;34m'data/posts.txt'\u001b[0m\u001b[0;34m]\u001b[0m\u001b[0;34m)\u001b[0m\u001b[0;34m\u001b[0m\u001b[0m\n",
      "\u001b[0;32m~/workspace/CCMLWI/CCMWLI-2017/wg4/cobe/cobe/brain.py\u001b[0m in \u001b[0;36m<module>\u001b[0;34m()\u001b[0m\n\u001b[1;32m     15\u001b[0m \u001b[0;32mfrom\u001b[0m \u001b[0;34m.\u001b[0m\u001b[0minstatrace\u001b[0m \u001b[0;32mimport\u001b[0m \u001b[0mtrace\u001b[0m\u001b[0;34m,\u001b[0m \u001b[0mtrace_ms\u001b[0m\u001b[0;34m,\u001b[0m \u001b[0mtrace_us\u001b[0m\u001b[0;34m\u001b[0m\u001b[0m\n\u001b[1;32m     16\u001b[0m \u001b[0;32mfrom\u001b[0m \u001b[0;34m.\u001b[0m \u001b[0;32mimport\u001b[0m \u001b[0mscoring\u001b[0m\u001b[0;34m\u001b[0m\u001b[0m\n\u001b[0;32m---> 17\u001b[0;31m \u001b[0;32mfrom\u001b[0m \u001b[0;34m.\u001b[0m \u001b[0;32mimport\u001b[0m \u001b[0mtokenizers\u001b[0m\u001b[0;34m\u001b[0m\u001b[0m\n\u001b[0m\u001b[1;32m     18\u001b[0m \u001b[0;32mimport\u001b[0m \u001b[0msys\u001b[0m\u001b[0;34m\u001b[0m\u001b[0m\n\u001b[1;32m     19\u001b[0m \u001b[0;34m\u001b[0m\u001b[0m\n",
      "\u001b[0;32m~/workspace/CCMLWI/CCMWLI-2017/wg4/cobe/cobe/tokenizers.py\u001b[0m in \u001b[0;36m<module>\u001b[0;34m()\u001b[0m\n\u001b[1;32m      2\u001b[0m \u001b[0;34m\u001b[0m\u001b[0m\n\u001b[1;32m      3\u001b[0m \u001b[0;32mimport\u001b[0m \u001b[0mre\u001b[0m\u001b[0;34m\u001b[0m\u001b[0m\n\u001b[0;32m----> 4\u001b[0;31m \u001b[0;32mimport\u001b[0m \u001b[0mStemmer\u001b[0m\u001b[0;34m\u001b[0m\u001b[0m\n\u001b[0m\u001b[1;32m      5\u001b[0m \u001b[0;32mimport\u001b[0m \u001b[0mtypes\u001b[0m\u001b[0;34m\u001b[0m\u001b[0m\n\u001b[1;32m      6\u001b[0m \u001b[0;34m\u001b[0m\u001b[0m\n",
      "\u001b[0;31mModuleNotFoundError\u001b[0m: No module named 'Stemmer'"
     ]
    }
   ],
   "source": [
    "from cobe.cobe.brain import Brain\n",
    "\n",
    "b = Brain(\"phil.brain\")\n",
    "b.learnfile(['data/posts.txt'])"
   ]
  },
  {
   "cell_type": "code",
   "execution_count": 2,
   "metadata": {},
   "outputs": [
    {
     "name": "stdout",
     "output_type": "stream",
     "text": [
      "Now I understand that evidence found in neuroscience points to the internal question about whether God could know what the \"opposite\" of itself that no intentional untruth in the expression they signify different things, but soon databases will do that. Would Sartre agree with me that the https://en.wikipedia.org/wiki/Ring_of_Gyges ring of Gyges and mass surveillance?. Plato in the Republic. Aristotle spoke of people who consider conscious beings or \"life\", however that is define, to be a translation issue. If I've got the same procedure an objective world outside of what our notion of before and after they come out. From the time of Homer, the Egyptian gods, the Hinduistic gods, the madness of the multitude; and they will never been incorruptible. One note: The main problem that is life itself, for that sentence to be analytic a priori is the opposite, logic (whose scope he understood expansively in the Kantian-Hegelian sense) depends on the desire of another human being. I am living with in-laws since the day I see because the sun could heat it or is that a) We are each capable of surviving on their own, that action when taken as whole structures must stand for the creative, sustainer, and destroyer aspects of the same religion; or periods of Islamic history when folks were OK with competing-but-not-hostile leadership of the same reasoning?\n"
     ]
    }
   ],
   "source": [
    "print(b.reply(\"what is life?\"))"
   ]
  },
  {
   "cell_type": "code",
   "execution_count": 3,
   "metadata": {},
   "outputs": [
    {
     "name": "stdout",
     "output_type": "stream",
     "text": [
      "you want to consider first expanding \"information\" about the qualia, even though to ourselves we appear to have emerged during the course of a proof is not to determine if it is to explore both the context of pluralism exclusivism ect. The resource I am aware that there are people who make such mistakes don't understand the reasons of the first verse of the Gita, Swami Nikhilananda says \"There are three sources: (1) O'Brien's conversation with Winston Smith while interrogating Smith in prison; (2) The second problem is about the way that is truly doing the creation. This also depends on ourselves. And so begin to distrust my intuitive ideas about logic, and therefore by definition not empirically provable (unless it can also feel like a hero which gives me a marker for displacement, a means to a different choice in a complex society that takes a long time it was hard to distinguish from a philosophical standpoint— to compare and look for problems with them:\n"
     ]
    }
   ],
   "source": [
    "print(b.reply(\"Was mathematics invented or discovered?. What would it mean to say that mathematics was invented and how would this be different from saying mathematics was discovered?\"))"
   ]
  },
  {
   "cell_type": "code",
   "execution_count": 4,
   "metadata": {},
   "outputs": [
    {
     "name": "stdout",
     "output_type": "stream",
     "text": [
      "- Hi Paul! How are you?\n"
     ]
    }
   ],
   "source": [
    "print(b.reply('Hi cobe'))"
   ]
  },
  {
   "cell_type": "code",
   "execution_count": 5,
   "metadata": {},
   "outputs": [
    {
     "name": "stdout",
     "output_type": "stream",
     "text": [
      "Can we know anything about them?\" (http://ctext.org/analects/xian-wen ctext)\n"
     ]
    }
   ],
   "source": [
    "print(b.reply(\"I'm quite fine, thanks. What do you think about Kierkegaard anyway?\"))"
   ]
  },
  {
   "cell_type": "code",
   "execution_count": 6,
   "metadata": {},
   "outputs": [
    {
     "name": "stdout",
     "output_type": "stream",
     "text": [
      "To let them pay the restaurant tab.\n"
     ]
    }
   ],
   "source": [
    "print(b.reply(\"Who's them?\"))"
   ]
  },
  {
   "cell_type": "code",
   "execution_count": 7,
   "metadata": {},
   "outputs": [
    {
     "name": "stdout",
     "output_type": "stream",
     "text": [
      "You're not the only issue\n"
     ]
    }
   ],
   "source": [
    "print(b.reply(\"You're not listening to me, are you?\"))"
   ]
  },
  {
   "cell_type": "code",
   "execution_count": 8,
   "metadata": {},
   "outputs": [
    {
     "name": "stdout",
     "output_type": "stream",
     "text": [
      "And why call selfishness \"blind, frugal, petty\"?\n"
     ]
    }
   ],
   "source": [
    "print(b.reply(\"But what about ethics and morality? Should we strive for selfishness?\"))"
   ]
  },
  {
   "cell_type": "code",
   "execution_count": 9,
   "metadata": {},
   "outputs": [
    {
     "name": "stdout",
     "output_type": "stream",
     "text": [
      "Are all non self-referential statements true or false. The hunt for fallacies in it. A large majority of the voting process, not something new, to do with projections. It is a number whereas 1 is a member, then y is consistent with all possible observations, is selflessness truly possible? What is better for the person in chamber B could safely assume that they didn't see themselves in interaction with you, Israel, as this potter does?” declares the Lord, and the nonrelativistic theory, where the effective separation of state and religious traditions (even within the pretence in whose interest is never exactly the same as demanding a logical impossibility -- he cannot exist. Because our brains evolved. Evolution is not actually true that all unicorns are not white\" are both false, since it's unclear whether or not aesthetics is approachable for someone who has never smoked. Thus, I think?\n"
     ]
    }
   ],
   "source": [
    "print(b.reply(\"Sorry, I mean selflessness\"))"
   ]
  },
  {
   "cell_type": "code",
   "execution_count": null,
   "metadata": {},
   "outputs": [],
   "source": [
    "from "
   ]
  }
 ],
 "metadata": {
  "kernelspec": {
   "display_name": "Python 3",
   "language": "python",
   "name": "python3"
  },
  "language_info": {
   "codemirror_mode": {
    "name": "ipython",
    "version": 3
   },
   "file_extension": ".py",
   "mimetype": "text/x-python",
   "name": "python",
   "nbconvert_exporter": "python",
   "pygments_lexer": "ipython3",
   "version": "3.6.2"
  }
 },
 "nbformat": 4,
 "nbformat_minor": 2
}
